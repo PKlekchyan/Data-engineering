{
 "cells": [
  {
   "cell_type": "code",
   "execution_count": 1,
   "id": "110c6727",
   "metadata": {},
   "outputs": [],
   "source": [
    "import pandas as pd\n",
    "import numpy as np"
   ]
  },
  {
   "cell_type": "markdown",
   "id": "69912080",
   "metadata": {},
   "source": [
    "#### Метод преобразующий колонку с индексом в число с плавающей запятой (float) "
   ]
  },
  {
   "cell_type": "code",
   "execution_count": 2,
   "id": "3f6dfbfe",
   "metadata": {},
   "outputs": [],
   "source": [
    "parseIndexedDoubleCol = lambda a, b: float(a[b])"
   ]
  },
  {
   "cell_type": "code",
   "execution_count": 3,
   "id": "7838fc4c",
   "metadata": {},
   "outputs": [
    {
     "data": {
      "text/html": [
       "<div>\n",
       "<style scoped>\n",
       "    .dataframe tbody tr th:only-of-type {\n",
       "        vertical-align: middle;\n",
       "    }\n",
       "\n",
       "    .dataframe tbody tr th {\n",
       "        vertical-align: top;\n",
       "    }\n",
       "\n",
       "    .dataframe thead th {\n",
       "        text-align: right;\n",
       "    }\n",
       "</style>\n",
       "<table border=\"1\" class=\"dataframe\">\n",
       "  <thead>\n",
       "    <tr style=\"text-align: right;\">\n",
       "      <th></th>\n",
       "      <th>longitude</th>\n",
       "      <th>latitude</th>\n",
       "      <th>housing_median_age</th>\n",
       "      <th>total_rooms</th>\n",
       "      <th>total_bedrooms</th>\n",
       "      <th>population</th>\n",
       "      <th>households</th>\n",
       "      <th>median_income</th>\n",
       "      <th>median_house_value</th>\n",
       "    </tr>\n",
       "  </thead>\n",
       "  <tbody>\n",
       "    <tr>\n",
       "      <th>0</th>\n",
       "      <td>-122.05</td>\n",
       "      <td>37.37</td>\n",
       "      <td>27.0</td>\n",
       "      <td>3885.0</td>\n",
       "      <td>661.0</td>\n",
       "      <td>1537.0</td>\n",
       "      <td>606.0</td>\n",
       "      <td>6.6085</td>\n",
       "      <td>344700.0</td>\n",
       "    </tr>\n",
       "    <tr>\n",
       "      <th>1</th>\n",
       "      <td>-118.30</td>\n",
       "      <td>34.26</td>\n",
       "      <td>43.0</td>\n",
       "      <td>1510.0</td>\n",
       "      <td>310.0</td>\n",
       "      <td>809.0</td>\n",
       "      <td>277.0</td>\n",
       "      <td>3.5990</td>\n",
       "      <td>176500.0</td>\n",
       "    </tr>\n",
       "    <tr>\n",
       "      <th>2</th>\n",
       "      <td>-117.81</td>\n",
       "      <td>33.78</td>\n",
       "      <td>27.0</td>\n",
       "      <td>3589.0</td>\n",
       "      <td>507.0</td>\n",
       "      <td>1484.0</td>\n",
       "      <td>495.0</td>\n",
       "      <td>5.7934</td>\n",
       "      <td>270500.0</td>\n",
       "    </tr>\n",
       "    <tr>\n",
       "      <th>3</th>\n",
       "      <td>-118.36</td>\n",
       "      <td>33.82</td>\n",
       "      <td>28.0</td>\n",
       "      <td>67.0</td>\n",
       "      <td>15.0</td>\n",
       "      <td>49.0</td>\n",
       "      <td>11.0</td>\n",
       "      <td>6.1359</td>\n",
       "      <td>330000.0</td>\n",
       "    </tr>\n",
       "    <tr>\n",
       "      <th>4</th>\n",
       "      <td>-119.67</td>\n",
       "      <td>36.33</td>\n",
       "      <td>19.0</td>\n",
       "      <td>1241.0</td>\n",
       "      <td>244.0</td>\n",
       "      <td>850.0</td>\n",
       "      <td>237.0</td>\n",
       "      <td>2.9375</td>\n",
       "      <td>81700.0</td>\n",
       "    </tr>\n",
       "  </tbody>\n",
       "</table>\n",
       "</div>"
      ],
      "text/plain": [
       "   longitude  latitude  housing_median_age  total_rooms  total_bedrooms  \\\n",
       "0    -122.05     37.37                27.0       3885.0           661.0   \n",
       "1    -118.30     34.26                43.0       1510.0           310.0   \n",
       "2    -117.81     33.78                27.0       3589.0           507.0   \n",
       "3    -118.36     33.82                28.0         67.0            15.0   \n",
       "4    -119.67     36.33                19.0       1241.0           244.0   \n",
       "\n",
       "   population  households  median_income  median_house_value  \n",
       "0      1537.0       606.0         6.6085            344700.0  \n",
       "1       809.0       277.0         3.5990            176500.0  \n",
       "2      1484.0       495.0         5.7934            270500.0  \n",
       "3        49.0        11.0         6.1359            330000.0  \n",
       "4       850.0       237.0         2.9375             81700.0  "
      ]
     },
     "execution_count": 3,
     "metadata": {},
     "output_type": "execute_result"
    }
   ],
   "source": [
    "df = pd.read_csv(\"california_housing_test.csv\")\n",
    "df.head()"
   ]
  },
  {
   "cell_type": "code",
   "execution_count": 4,
   "id": "2cb39cf0",
   "metadata": {},
   "outputs": [],
   "source": [
    "# Расщепляем необходимые строки на списки\n",
    "def parseLine(s):\n",
    "    col2 = parseIndexedDoubleCol(s.split(','), 2)\n",
    "    col3 = parseIndexedDoubleCol(s.split(','), 3)\n",
    "    col5 = parseIndexedDoubleCol(s.split(','), 5)\n",
    "    return (col2, col3, col5)"
   ]
  },
  {
   "cell_type": "code",
   "execution_count": 5,
   "id": "395de21f",
   "metadata": {},
   "outputs": [],
   "source": [
    "# Находим среднее, как сумма деленная на колличество элементов колонки\n",
    "def average(s, n):\n",
    "    if n != 0:\n",
    "        return s/n\n",
    "    else: \n",
    "         return 0"
   ]
  },
  {
   "cell_type": "markdown",
   "id": "8754c37d",
   "metadata": {},
   "source": [
    "#### Вычисляем среднее значение"
   ]
  },
  {
   "cell_type": "code",
   "execution_count": 8,
   "id": "73d3fa53",
   "metadata": {},
   "outputs": [
    {
     "name": "stdout",
     "output_type": "stream",
     "text": [
      "Среднее значение колонки \"housing_median_age\": 28.8453\n",
      "Среднее значение колонки \"total_rooms\": 2599.5787\n",
      "Среднее значение колонки \"population\": 1402.7987\n"
     ]
    }
   ],
   "source": [
    "i = 0\n",
    "s_2 = 0\n",
    "s_3 = 0\n",
    "s_5 = 0\n",
    "with open('california_housing_test.csv') as f:\n",
    "    for line in f:  \n",
    "#         пропускаем первую строку с заголовком\n",
    "        if i > 0: \n",
    "\n",
    "            col2, col3, col5 = parseLine(line)\n",
    "            s_2 = s_2 + col2\n",
    "            s_3 = s_3 + col3\n",
    "            s_5 = s_5 + col5\n",
    "            \n",
    "        i = i + 1\n",
    "        \n",
    "print(f'Среднее значение колонки \"housing_median_age\": {average(s_2, i - 1):.4f}')\n",
    "print(f'Среднее значение колонки \"total_rooms\": {average(s_3, i - 1):.4f}')\n",
    "print(f'Среднее значение колонки \"population\": {average(s_5, i - 1):.4f}')"
   ]
  }
 ],
 "metadata": {
  "kernelspec": {
   "display_name": "Python 3 (ipykernel)",
   "language": "python",
   "name": "python3"
  },
  "language_info": {
   "codemirror_mode": {
    "name": "ipython",
    "version": 3
   },
   "file_extension": ".py",
   "mimetype": "text/x-python",
   "name": "python",
   "nbconvert_exporter": "python",
   "pygments_lexer": "ipython3",
   "version": "3.9.7"
  }
 },
 "nbformat": 4,
 "nbformat_minor": 5
}
